{
 "cells": [
  {
   "cell_type": "code",
   "execution_count": 1,
   "id": "d5c91af5",
   "metadata": {},
   "outputs": [],
   "source": [
    "%matplotlib inline"
   ]
  },
  {
   "cell_type": "code",
   "execution_count": 2,
   "id": "782bc692",
   "metadata": {},
   "outputs": [],
   "source": [
    "import numpy as np\n",
    "import pandas as pd\n",
    "import pylab as plt"
   ]
  },
  {
   "cell_type": "markdown",
   "id": "1752fffa",
   "metadata": {},
   "source": [
    "# Project\n",
    "\n",
    "### Description\n",
    "\n",
    "This is a learning project. The point of it is to run analysis on the HoI4 air combat algorithm. It will use python and MatPlotLib to make the calculations and display them as graphs to make analysis and comparison easier.\n",
    "\n",
    "**Learning note 1**\n",
    "\n",
    "Remember to run the code snippets with Shift-Enter. They also needs to be run in the correct order to update the scope when you make "
   ]
  },
  {
   "cell_type": "markdown",
   "id": "7b088fea",
   "metadata": {},
   "source": [
    "### Preparation\n",
    "\n",
    "We need to set up the basic data that we will be running the algorithm over to see the results. We will be using objects to store and pass data. "
   ]
  },
  {
   "cell_type": "code",
   "execution_count": 3,
   "id": "5d2dd298",
   "metadata": {},
   "outputs": [],
   "source": [
    "class Plane:\n",
    "    def __init__(self, attack, defence, agility, speed, cost):\n",
    "        self.attack = attack\n",
    "        self.defence = defence\n",
    "        self.agility = agility\n",
    "        self.speed = speed\n",
    "        self.cost = cost\n",
    "        \n",
    "    @property\n",
    "    def attack(self):\n",
    "        return self._attack\n",
    "    @property\n",
    "    def defence(self):\n",
    "        return self._defence\n",
    "    @property\n",
    "    def agility(self):\n",
    "        return self._agility\n",
    "    @property\n",
    "    def speed(self):\n",
    "        return self._speed\n",
    "    @property\n",
    "    def cost(self):\n",
    "        return self._cost\n",
    "    @attack.setter\n",
    "    def attack(self, val: int):\n",
    "        self._attack = val\n",
    "    @defence.setter\n",
    "    def defence(self, val: int):\n",
    "        self._defence = val\n",
    "    @agility.setter\n",
    "    def agility(self, val: int):\n",
    "        self._agility = val\n",
    "    @speed.setter\n",
    "    def speed(self, val: int):\n",
    "        self._speed = val\n",
    "    @cost.setter\n",
    "    def cost(self, val: int):\n",
    "        self._cost = val\n"
   ]
  },
  {
   "cell_type": "markdown",
   "id": "5f5f1d6a",
   "metadata": {},
   "source": [
    "This is the primary class we will be using. The properties are the values for the planes that we will be comparing.\n",
    "\n",
    "**Learning note 2**\n",
    "\n",
    "This can either be done only with the top block after def `__init__`. The next block is a long winded way to make get/set methods. This enables things like input validation and typing. I have skipped input validation and typing here for the time being.\n",
    "\n",
    "**Learning Note 3**\n",
    "\n",
    "The underscore in the setters and getters seem to be important. Without them trying to use the object kept killing the kernel. It turns out that it differentiates between the property and the method. Without the underscore det get method calls the get method and loops."
   ]
  },
  {
   "cell_type": "code",
   "execution_count": 4,
   "id": "7cdd18e4",
   "metadata": {},
   "outputs": [],
   "source": [
    "class VariantPlane():\n",
    "    def __init__(self, plane: Plane, weapons: int = 0, pRange: int = 0, engine: int = 0, reliability: int = 0):\n",
    "        self.plane = plane\n",
    "        self.weapons = weapons # +10% attack, - 1% speed, 10% Reliability, 5% agility\n",
    "        self.pRange = pRange # +10% Range, -10% Reliability\n",
    "        self.engine = engine # +2% speed, 5% agility\n",
    "        self.reliability = reliability # +10% Reliabilty\n",
    "        \n",
    "    @property\n",
    "    def attack(self):\n",
    "        return self.plane.attack*(1+0.1*self._weapons)\n",
    "    @property\n",
    "    def defence(self):\n",
    "        return self.plane.defence\n",
    "    @property\n",
    "    def agility(self):\n",
    "        return self.plane.agility-(0.05*self._weapons*self.plane.agility)+(0.05*self.plane.agility*self.engine)\n",
    "    @property\n",
    "    def speed(self):\n",
    "        return self.plane.speed-(0.01*self._weapons*self.plane.speed)+(0.02*self.engine*self.plane.speed)\n",
    "    @property\n",
    "    def cost(self):\n",
    "        return self.plane.cost\n",
    "\n",
    "    @property\n",
    "    def weapons(self):\n",
    "        return self._weapons\n",
    "    @weapons.setter\n",
    "    def weapons(self, val: int):\n",
    "        if not isinstance(val, int):\n",
    "            raise TypeError(\"weapons should be an int\")\n",
    "        if val > 5:\n",
    "            val = 5\n",
    "        self._weapons = abs(val)\n",
    "    @property\n",
    "    def pRange(self):\n",
    "        return self._pRange\n",
    "    @pRange.setter\n",
    "    def pRange(self, val: int):\n",
    "        if not isinstance(val, int):\n",
    "            raise TypeError(\"range should be an int\")\n",
    "        if val > 5:\n",
    "            val = 5\n",
    "        self._pRange = abs(val)\n",
    "    @property\n",
    "    def engine(self):\n",
    "        return self._engine\n",
    "    @engine.setter\n",
    "    def engine(self, val: int):\n",
    "        if not isinstance(val, int):\n",
    "            raise TypeError(\"engine should be an int\")\n",
    "        if val > 5:\n",
    "            val = 5\n",
    "        self._engine = abs(val)\n",
    "    @property\n",
    "    def reliability(self):\n",
    "        return self._reliability\n",
    "    @reliability.setter\n",
    "    def reliability(self, val: int):\n",
    "        if not isinstance(val, int):\n",
    "            raise TypeError(\"reliability should be an int\")\n",
    "        if val > 5:\n",
    "            val = 5\n",
    "        self._reliability = abs(val)"
   ]
  },
  {
   "cell_type": "markdown",
   "id": "4359ad95",
   "metadata": {},
   "source": [
    "I will come back to figure out this later. The point is that I want to make variants to planes without having to type in everything. I will send in the plane I want a variant of and then overwrite the specific values.\n",
    "\n",
    "I see that this might not be the best way to do this with this specific dataset. The upgrades are percentage bonus/penalties. That means that I want the original plane values and the upgrade points, and afterwards apply the bonuses.\n",
    "\n",
    "I also want to be able to only set one of the possible variant values, and have the others initiate as Zero.\n",
    "\n",
    "### Later\n",
    "Asked a question and got some help. Was advised to make the variant with nested objects. That is just have a Plane object in the variable. Using getters and setters here so that the planes values kan be modified when asked for later."
   ]
  },
  {
   "cell_type": "code",
   "execution_count": 38,
   "id": "7a6652c0",
   "metadata": {},
   "outputs": [],
   "source": [
    "def damage(attacker, defender):\n",
    "    # damage = 0.01*number of attackers*air attack/air defence*(1+stats multiplier)*carrier factor*(1+agility disadvantage)\n",
    "    # multiplier = (((attacker.speed-defender.speed)/1500+(attacker.agility-defender.agility)/100)*0.3)\n",
    "    # print(multiplier)\n",
    "    \n",
    "    def statsMultiplier(asp, ds, aa, da):\n",
    "        multiplier = ((((asp-ds)/1500)+(aa-da))/100)\n",
    "        if multiplier < 1:\n",
    "            if multiplier < -1:\n",
    "                return -1*0.3\n",
    "            return multiplier*0.3\n",
    "        else: \n",
    "            return 1*0.3\n",
    "    \n",
    "    def agilityDisadvantage(aa, da):\n",
    "        disadvantage = 0.45*((aa/da) - 1)\n",
    "        \n",
    "        if disadvantage < 0.675:\n",
    "            if disadvantage < -0.675:\n",
    "                return -0.675\n",
    "            return disadvantage\n",
    "        else: \n",
    "            return 0.675\n",
    "    \n",
    "    disadvantage = agilityDisadvantage(attacker.agility, defender.agility)\n",
    "    print(\"disadvantage \" + str(disadvantage))\n",
    "    multiplier = statsMultiplier(attacker.speed, defender.speed, attacker.agility, defender.agility)\n",
    "    print(\"multiplier \" + str(multiplier))\n",
    "    return 0.01*1*(attacker.attack/defender.defence)*(1+multiplier)*0.1*(1+disadvantage)"
   ]
  },
  {
   "cell_type": "markdown",
   "id": "7b657f9e",
   "metadata": {},
   "source": [
    "I have been doing this iteratively. First step was doing the stats multiplier calculation. I see that there might be an issue using variantPlane in this. I need to find out if I can have a get method to return variantPlane.attack. Looking over the code that was suggested for variantPlane I can. And it works.\n",
    "\n",
    "**Learning note 4**\n",
    "\n",
    "Check up on underscore in Python and what it means."
   ]
  },
  {
   "cell_type": "code",
   "execution_count": 46,
   "id": "15c9767e",
   "metadata": {},
   "outputs": [
    {
     "name": "stdout",
     "output_type": "stream",
     "text": [
      "0.104\n",
      "-0.075\n",
      "0.73\n",
      "1.675\n",
      "0.6466666666666667\n",
      "test3 0.075\n",
      "test4 0.075\n"
     ]
    }
   ],
   "source": [
    "def test1():\n",
    "    return (((500-430)/1500+(50-20)/100)*0.3)\n",
    "\n",
    "print(test1())\n",
    "\n",
    "def test2():\n",
    "    return (((500-650)/1500+(50-65)/100)*0.3)\n",
    "\n",
    "def test3():\n",
    "    return (((650-500)/1500+(65-50)/100)*0.3)\n",
    "\n",
    "def test4():\n",
    "    return ((((650-500)/1500)+(65-50)/100)*0.3)\n",
    "\n",
    "print(test2())\n",
    "\n",
    "aa = 20\n",
    "da = 50\n",
    "print(1+(0.45*(aa/da - 1)))\n",
    "\n",
    "print(1+(0.45*(da/aa - 1)))\n",
    "\n",
    "print(((500-430)/1500+(50-20)/100)+0.3)\n",
    "\n",
    "print(\"test3 \" + str(test3()))\n",
    "print(\"test4 \" + str(test4()))"
   ]
  },
  {
   "cell_type": "code",
   "execution_count": 42,
   "id": "92b2bb25",
   "metadata": {},
   "outputs": [
    {
     "name": "stdout",
     "output_type": "stream",
     "text": [
      "disadvantage 0.13500000000000004\n",
      "multiplier 0.0453\n",
      "Damage f40vsf36 0.0032033218500000004\n",
      "disadvantage -0.10384615384615382\n",
      "multiplier -0.0453\n",
      "Damage f36vsf40 0.0012833371153846156\n"
     ]
    }
   ],
   "source": [
    "f33 = Plane(9,8,20,430,22)\n",
    "f36 = Plane(18,10,50,500,24)\n",
    "f40 = Plane(27,12,65,650,26)\n",
    "\n",
    "print(\"Damage f40vsf36 \" + str(damage(f40,f36)))\n",
    "print(\"Damage f36vsf40 \" + str(damage(f36, f40)))\n",
    "\n"
   ]
  },
  {
   "cell_type": "code",
   "execution_count": 27,
   "id": "425d83d6",
   "metadata": {},
   "outputs": [
    {
     "name": "stdout",
     "output_type": "stream",
     "text": [
      "9\n",
      "13.5\n",
      "20\n",
      "17.0\n",
      "430\n",
      "425.7\n"
     ]
    }
   ],
   "source": [
    "f33v1 = VariantPlane(plane=f33, weapons=50, pRange=-2, engine=2, reliability=3)\n",
    "\n",
    "print(f33.attack)\n",
    "print(f33v1.attack)\n",
    "print(f33.agility)\n",
    "print(f33v1.agility)\n",
    "print(f33.speed)\n",
    "print(f33v1.speed)"
   ]
  },
  {
   "cell_type": "code",
   "execution_count": 20,
   "id": "42559808",
   "metadata": {},
   "outputs": [
    {
     "data": {
      "text/plain": [
       "{'plane': <__main__.Plane at 0x19fc8edadc0>,\n",
       " '_weapons': 2,\n",
       " '_pRange': 2,\n",
       " '_reliability': 3}"
      ]
     },
     "execution_count": 20,
     "metadata": {},
     "output_type": "execute_result"
    }
   ],
   "source": [
    "f33v1.__dict__"
   ]
  },
  {
   "cell_type": "code",
   "execution_count": 21,
   "id": "b0eb9a0f",
   "metadata": {},
   "outputs": [
    {
     "data": {
      "text/plain": [
       "{'_attack': 9, '_defence': 8, '_agility': 45, '_speed': 330, '_cost': 22}"
      ]
     },
     "execution_count": 21,
     "metadata": {},
     "output_type": "execute_result"
    }
   ],
   "source": [
    "f33v1.plane.__dict__"
   ]
  },
  {
   "cell_type": "code",
   "execution_count": null,
   "id": "46f0602a",
   "metadata": {},
   "outputs": [],
   "source": []
  }
 ],
 "metadata": {
  "kernelspec": {
   "display_name": "Python 3 (ipykernel)",
   "language": "python",
   "name": "python3"
  },
  "language_info": {
   "codemirror_mode": {
    "name": "ipython",
    "version": 3
   },
   "file_extension": ".py",
   "mimetype": "text/x-python",
   "name": "python",
   "nbconvert_exporter": "python",
   "pygments_lexer": "ipython3",
   "version": "3.9.5"
  }
 },
 "nbformat": 4,
 "nbformat_minor": 5
}
