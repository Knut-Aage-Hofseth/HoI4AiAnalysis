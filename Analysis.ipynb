{
 "cells": [
  {
   "cell_type": "code",
   "execution_count": 1,
   "id": "d5c91af5",
   "metadata": {},
   "outputs": [],
   "source": [
    "%matplotlib inline"
   ]
  },
  {
   "cell_type": "code",
   "execution_count": 2,
   "id": "782bc692",
   "metadata": {},
   "outputs": [],
   "source": [
    "import numpy as np\n",
    "import pandas as pd\n",
    "import pylab as plt"
   ]
  },
  {
   "cell_type": "markdown",
   "id": "093ab330",
   "metadata": {},
   "source": [
    "# Project\n",
    "\n",
    "### Description\n",
    "\n",
    "This is a learning project. The point of it is to run analysis on the HoI4 air combat algorithm. It will use python and MatPlotLib to make the calculations and display them as graphs to make analysis and comparison easier.\n",
    "\n",
    "Learning note 1\n",
    "Remember to run the code snippets with Shift-Enter. They also needs to be run in the correct order to update the scope when you make "
   ]
  },
  {
   "cell_type": "markdown",
   "id": "34fbef1b",
   "metadata": {},
   "source": [
    "### Preparation\n",
    "\n",
    "We need to set up the basic data that we will be running the algorithm over to see the results. We will be using objects to store and pass data. "
   ]
  },
  {
   "cell_type": "code",
   "execution_count": 26,
   "id": "0bdc6d33",
   "metadata": {},
   "outputs": [],
   "source": [
    "class Plane:\n",
    "    def __init__(self, attack, defence, agility, speed, cost):\n",
    "        self.attack = attack\n",
    "        self.defence = defence\n",
    "        self.agility = agility\n",
    "        self.speed = speed\n",
    "        self.cost = cost\n",
    "    @property\n",
    "    def attack(self):\n",
    "        return self.attack\n",
    "    @property\n",
    "    def defence(self):\n",
    "        return self.defence\n",
    "    @property\n",
    "    def agility(self):\n",
    "        return self.agility\n",
    "    @property\n",
    "    def speed(self):\n",
    "        return self.speed\n",
    "    @property\n",
    "    def cost(self):\n",
    "        return self.cost\n",
    "    @attack.setter\n",
    "    def attack(self, val: int):\n",
    "        self.weapons = val\n",
    "    @defence.setter\n",
    "    def defence(self, val: int):\n",
    "        self.defence = val\n",
    "    @agility.setter\n",
    "    def agility(self, val: int):\n",
    "        self.agility = val\n",
    "    @speed.setter\n",
    "    def speed(self, val: int):\n",
    "        self.speed = val\n",
    "    @cost.setter\n",
    "    def cost \n"
   ]
  },
  {
   "cell_type": "markdown",
   "id": "e29a02c4",
   "metadata": {},
   "source": [
    "This is the primary class we will be using. The properties are the values for the planes that we will be comparing."
   ]
  },
  {
   "cell_type": "code",
   "execution_count": 63,
   "id": "03d53f5b",
   "metadata": {},
   "outputs": [],
   "source": [
    "class VariantPlane():\n",
    "    def __init__(self, plane: Plane, weapons: int = 0):\n",
    "        self.plane = plane\n",
    "        self.weapons = weapons # +10% attack, - 1% speed, 10% Reliability, 5% agility\n",
    "        self.range = 0 # +10% Range, -10% Reliability\n",
    "        self.engine = 0 # +2% speed, 5% agility\n",
    "        self.reliability = 0 # +10% Reliabilty\n",
    "    @property\n",
    "    def attack(self):\n",
    "        return self.plane.attack + self.weapons\n",
    "    @property\n",
    "    def weapons(self):\n",
    "        return self._weapons\n",
    "    @weapons.setter\n",
    "    def weapons(self, val: int):\n",
    "        if not isinstance(val, int):\n",
    "            raise TypeError(\"weapons should be an int\")\n",
    "        if val > 7:\n",
    "            val = 7\n",
    "        self._weapons = val\n"
   ]
  },
  {
   "cell_type": "markdown",
   "id": "7fab9794",
   "metadata": {},
   "source": [
    "I will come back to figure out this later. The point is that I want to make variants to planes without having to type in everything. I will send in the plane I want a variant of and then overwrite the specific values.\n",
    "\n",
    "I see that this might not be the best way to do this with this specific dataset. The upgrades are percentage bonus/penalties. That means that I want the original plane values and the upgrade points, and afterwards apply the bonuses.\n",
    "\n",
    "I also want to be able to only set one of the possible variant values, and have the others initiate as Zero"
   ]
  },
  {
   "cell_type": "code",
   "execution_count": 68,
   "id": "f167c033",
   "metadata": {},
   "outputs": [],
   "source": [
    "def damage(attacker, defender):\n",
    "    # damage = 0.01*number of attackers*air attack/air defence*(1+stats multiplier)*carrier factor*(1+agility disadvantage)\n",
    "    multiplier = ((attacker.speed-defender.speed)/1500+(attacker.agility-defender.agility)/100)*1.3\n",
    "    return multiplier"
   ]
  },
  {
   "cell_type": "code",
   "execution_count": 22,
   "id": "03f3b70b",
   "metadata": {},
   "outputs": [
    {
     "name": "stdout",
     "output_type": "stream",
     "text": [
      "0.104\n",
      "-0.05\n"
     ]
    }
   ],
   "source": [
    "def test1():\n",
    "    return (((500-430)/1500+(50-20)/100)*0.3)\n",
    "\n",
    "print(test1())\n",
    "\n",
    "def test2():\n",
    "    return (((500-600)/1500+(50-60)/100)*0.3)\n",
    "\n",
    "print(test2())"
   ]
  },
  {
   "cell_type": "code",
   "execution_count": 70,
   "id": "a7099c7b",
   "metadata": {},
   "outputs": [
    {
     "name": "stdout",
     "output_type": "stream",
     "text": [
      "-0.21233333333333335\n",
      "0.21233333333333335\n"
     ]
    }
   ],
   "source": [
    "f33 = Plane(9,8,45,330,22)\n",
    "f36 = Plane(18,10,50,500,24)\n",
    "\n",
    "print(damage(f33,f36))\n",
    "print(damage(f36, f33))"
   ]
  },
  {
   "cell_type": "code",
   "execution_count": 65,
   "id": "08eccb4c",
   "metadata": {},
   "outputs": [],
   "source": [
    "f33v1 = VariantPlane(plane=f33, weapons=50)"
   ]
  },
  {
   "cell_type": "code",
   "execution_count": 66,
   "id": "c7854cbd",
   "metadata": {},
   "outputs": [
    {
     "data": {
      "text/plain": [
       "{'plane': <__main__.Plane at 0x1862ca134f0>,\n",
       " '_weapons': 7,\n",
       " 'range': 0,\n",
       " 'engine': 0,\n",
       " 'reliability': 0}"
      ]
     },
     "execution_count": 66,
     "metadata": {},
     "output_type": "execute_result"
    }
   ],
   "source": [
    "f33v1.__dict__"
   ]
  },
  {
   "cell_type": "code",
   "execution_count": null,
   "id": "81f0b4ab",
   "metadata": {},
   "outputs": [],
   "source": []
  }
 ],
 "metadata": {
  "kernelspec": {
   "display_name": "Python 3 (ipykernel)",
   "language": "python",
   "name": "python3"
  },
  "language_info": {
   "codemirror_mode": {
    "name": "ipython",
    "version": 3
   },
   "file_extension": ".py",
   "mimetype": "text/x-python",
   "name": "python",
   "nbconvert_exporter": "python",
   "pygments_lexer": "ipython3",
   "version": "3.8.1"
  }
 },
 "nbformat": 4,
 "nbformat_minor": 5
}
