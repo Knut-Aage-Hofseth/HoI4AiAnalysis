{
 "cells": [
  {
   "cell_type": "code",
   "execution_count": 1,
   "id": "d5c91af5",
   "metadata": {},
   "outputs": [],
   "source": [
    "%matplotlib inline"
   ]
  },
  {
   "cell_type": "code",
   "execution_count": 2,
   "id": "782bc692",
   "metadata": {},
   "outputs": [],
   "source": [
    "import numpy as np\n",
    "import pandas as pd\n",
    "import pylab as plt"
   ]
  },
  {
   "cell_type": "markdown",
   "id": "95e5cd21",
   "metadata": {},
   "source": [
    "# Project\n",
    "\n",
    "### Description\n",
    "\n",
    "This is a learning project. The point of it is to run analysis on the HoI4 air combat algorithm. It will use python and MatPlotLib to make the calculations and display them as graphs to make analysis and comparison easier."
   ]
  },
  {
   "cell_type": "markdown",
   "id": "76db5914",
   "metadata": {},
   "source": [
    "### Preparation\n",
    "\n",
    "We need to set up the basic data that we will be running the algorithm over to see the results. We will be using objects to store and pass data. "
   ]
  },
  {
   "cell_type": "code",
   "execution_count": null,
   "id": "729a70ef",
   "metadata": {},
   "outputs": [],
   "source": [
    "Class Plane:\n",
    "    def _init_(self, attack, defence, agility, speed, cost)\n",
    "        self.attack = attack\n",
    "        self.defence = defence\n",
    "        self.agility = agility\n",
    "        self.speed = speed\n",
    "        self.cost = cost\n"
   ]
  }
 ],
 "metadata": {
  "kernelspec": {
   "display_name": "Python 3 (ipykernel)",
   "language": "python",
   "name": "python3"
  },
  "language_info": {
   "codemirror_mode": {
    "name": "ipython",
    "version": 3
   },
   "file_extension": ".py",
   "mimetype": "text/x-python",
   "name": "python",
   "nbconvert_exporter": "python",
   "pygments_lexer": "ipython3",
   "version": "3.8.1"
  }
 },
 "nbformat": 4,
 "nbformat_minor": 5
}
