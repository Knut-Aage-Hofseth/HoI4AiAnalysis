{
 "cells": [
  {
   "cell_type": "code",
   "execution_count": 1,
   "id": "d5c91af5",
   "metadata": {},
   "outputs": [],
   "source": [
    "%matplotlib inline"
   ]
  },
  {
   "cell_type": "code",
   "execution_count": 2,
   "id": "782bc692",
   "metadata": {},
   "outputs": [],
   "source": [
    "import numpy as np\n",
    "import pandas as pd\n",
    "import pylab as plt"
   ]
  },
  {
   "cell_type": "markdown",
   "id": "1e6653af",
   "metadata": {},
   "source": [
    "# Project\n",
    "\n",
    "### Description\n",
    "\n",
    "This is a learning project. The point of it is to run analysis on the HoI4 air combat algorithm. It will use python and MatPlotLib to make the calculations and display them as graphs to make analysis and comparison easier."
   ]
  },
  {
   "cell_type": "markdown",
   "id": "b0c40a1c",
   "metadata": {},
   "source": [
    "### Preparation\n",
    "\n",
    "We need to set up the basic data that we will be running the algorithm over to see the results. We will be using objects to store and pass data. "
   ]
  },
  {
   "cell_type": "code",
   "execution_count": 9,
   "id": "bd2b97f6",
   "metadata": {},
   "outputs": [],
   "source": [
    "class Plane:\n",
    "    def __init__(self, attack, defence, agility, speed, cost):\n",
    "        self.attack = attack\n",
    "        self.defence = defence\n",
    "        self.agility = agility\n",
    "        self.speed = speed\n",
    "        self.cost = cost\n"
   ]
  },
  {
   "cell_type": "markdown",
   "id": "71e27abd",
   "metadata": {},
   "source": [
    "This is the primary class we will be using. The properties are the values for the planes that we will be comparing."
   ]
  },
  {
   "cell_type": "code",
   "execution_count": 15,
   "id": "012ecfb6",
   "metadata": {},
   "outputs": [],
   "source": [
    "class VariantPlane(Plane):\n",
    "    def __init__(self, Plane):\n",
    "        super().__init__(Plane.attack, Plane,defence, Plane.agility, Plane.speed, Plane.cost)\n",
    "        self.weapons = 0 # +10% attack, - 1% speed, 10% Reliability, 5% agility\n",
    "        self.range = 0 # +10% Range, -10% Reliability\n",
    "        self.engine = 0 # +2% speed, 5% agility\n",
    "        self.reliability = 0 # +10% Reliabilty"
   ]
  },
  {
   "cell_type": "markdown",
   "id": "8c69da2f",
   "metadata": {},
   "source": [
    "I will come back to figure out this later. The point is that I want to make variants to planes without having to type in everything. I will send in the plane I want a variant of and then overwrite the specific values.\n",
    "\n",
    "I see that this might not be the best way to do this with this specific dataset. The upgrades are percentage bonus/penalties. That means that I want the original plane values and the upgrade points, and afterwards apply the bonuses.\n",
    "\n",
    "I also want to be able to only set one of the possible variant values, and have the others initiate as Zero"
   ]
  },
  {
   "cell_type": "code",
   "execution_count": null,
   "id": "5b9093ff",
   "metadata": {},
   "outputs": [],
   "source": [
    "def damage(attacker, defender):\n",
    "    return"
   ]
  }
 ],
 "metadata": {
  "kernelspec": {
   "display_name": "Python 3 (ipykernel)",
   "language": "python",
   "name": "python3"
  },
  "language_info": {
   "codemirror_mode": {
    "name": "ipython",
    "version": 3
   },
   "file_extension": ".py",
   "mimetype": "text/x-python",
   "name": "python",
   "nbconvert_exporter": "python",
   "pygments_lexer": "ipython3",
   "version": "3.8.1"
  }
 },
 "nbformat": 4,
 "nbformat_minor": 5
}
